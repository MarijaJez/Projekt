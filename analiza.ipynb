{
 "cells": [
  {
   "cell_type": "markdown",
   "metadata": {},
   "source": [
    "## RECEPTI, *Projektna naloga pri predemtu Programiranje 1*\n",
    "#### Marija Jezeršek"
   ]
  },
  {
   "cell_type": "markdown",
   "metadata": {},
   "source": [
    "### Uvod:\n",
    "\n",
    "V tej projektni nalogi analiziram recepte s strani \"Kulinarika.net\". S strani sem zajela podatke 12766 receptov iz kategorij juhe, solate, priloge, mesne jedi, zelenjavne jedi in sladice. Vsak recept ima podatke o imenu recepta in avtorja, času priprave, povprečni oceni, kategoriji, sestavinah in postopku priprave. Poleg tega ima vsak recept tudi svoj indeks, ki povezuje osnovne podatke recepta s podatki o sestavinah in postopku, ki so shranjeni v različnih CSV-datotekah.\n",
    "\n",
    "Delovne hipoteze, ki sem si jih zastavila in so obravnavane v projektu, so:\n",
    "- Kakšna je povezava med zahtevnostjo priprave in dolžino navodil, časom priprave ter številom različnih sestavin?\n",
    "- Jedi s katereimi sestavinami imajo najboljše ocene?\n",
    "- Z uporabo naivnega Bayesovega klasifikatorja poskusim iz sestavin napovedati kategorijo jedi."
   ]
  },
  {
   "cell_type": "code",
   "execution_count": 297,
   "metadata": {},
   "outputs": [],
   "source": [
    "# naložimo paket\n",
    "import pandas as pd\n",
    "import re\n",
    "from tqdm import tqdm\n",
    "import math\n",
    "import matplotlib\n",
    "import matplotlib.pyplot as plt\n",
    "import numpy as np\n",
    "\n",
    "# ker bomo delali z velikimi razpredelnicami, povemo, da naj se vedno izpiše le 10 vrstic\n",
    "pd.set_option('display.max_rows', 10)"
   ]
  },
  {
   "cell_type": "markdown",
   "metadata": {},
   "source": [
    "Ker nam tudi Kulinarika poda svojo oceno zahtevnosti (sklepam, da gre za (subjektivno) oceno avtorja recepta), bom s shranjenih html strani najprej pridobila še podatke o tem, da jih bom kasneje lahko primerjala s svojo oceno."
   ]
  },
  {
   "cell_type": "code",
   "execution_count": 242,
   "metadata": {},
   "outputs": [
    {
     "name": "stderr",
     "output_type": "stream",
     "text": [
      "  0%|          | 0/12766 [00:00<?, ?it/s]C:\\Users\\Marija\\AppData\\Local\\Temp\\ipykernel_12740\\3744588564.py:14: SettingWithCopyWarning: \n",
      "A value is trying to be set on a copy of a slice from a DataFrame\n",
      "\n",
      "See the caveats in the documentation: https://pandas.pydata.org/pandas-docs/stable/user_guide/indexing.html#returning-a-view-versus-a-copy\n",
      "  predvidena_tezavnost[recepti['indeks'] == vrstica['indeks']] = len(z)\n",
      "100%|██████████| 12766/12766 [00:38<00:00, 330.35it/s]\n"
     ]
    }
   ],
   "source": [
    "recepti = pd.read_csv('podatki_z_indeksi.csv')\n",
    "\n",
    "recepti['predvidena_tezavnost'] = 0\n",
    "predvidena_tezavnost = recepti['predvidena_tezavnost']\n",
    "\n",
    "for vrstica in tqdm(recepti.iloc, total=len(recepti)):\n",
    "    pot = f\"html_strani/{vrstica['indeks']}.html\"\n",
    "\n",
    "    with open(pot, 'r', encoding='utf-8') as d:\n",
    "        vsebina = d.read()\n",
    "    vzorec_zahtevnost = re.compile(r\"\"\"<img src='/grafika6/ikona-utez.png'\"\"\", re.DOTALL)\n",
    "    z = re.findall(vzorec_zahtevnost, vsebina)\n",
    "\n",
    "    predvidena_tezavnost[recepti['indeks'] == vrstica['indeks']] = len(z)\n",
    "\n",
    "\n",
    "recepti.to_csv('podatki_z_indeksi.csv')"
   ]
  },
  {
   "cell_type": "code",
   "execution_count": 298,
   "metadata": {},
   "outputs": [
    {
     "data": {
      "image/png": "[encoded data removed]",
      "text/plain": [
       "<Figure size 432x288 with 1 Axes>"
      ]
     },
     "metadata": {
      "needs_background": "light"
     },
     "output_type": "display_data"
    }
   ],
   "source": [
    "recepti = pd.read_csv('podatki_z_indeksi.csv')\n",
    "\n",
    "_ = plt.hist(recepti[\"predvidena_tezavnost\"], bins=100)"
   ]
  },
  {
   "cell_type": "markdown",
   "metadata": {},
   "source": [
    "Kulinarika torej večino receptov oceni kot enostavne ... Kaj pa mi?"
   ]
  },
  {
   "cell_type": "markdown",
   "metadata": {},
   "source": [
    "### Indeks zahtevnosti priprave:\n",
    "\n",
    "Po moji oceni je zahtevnost priprave odvisna od časa priprave $ t $, dolžine opisa postopka priprave $ l $ in številom različnih sestavin $ n $, ki jih potrebuješ za pripravo jedi. Na podlagi teh parametrov bom za vsak recept izračunala indeks zahtevnosti priprave recepta $ z $ po formuli:\n",
    "$$ z =  t l \\log n  $$"
   ]
  },
  {
   "cell_type": "code",
   "execution_count": 299,
   "metadata": {},
   "outputs": [],
   "source": [
    "def cas_v_minutah(niz):\n",
    "    \"\"\" Pretvori čas priprave v celo število minut, potrebnih za priprvo. \"\"\"\n",
    "    if \"ur\" in niz and \"min\" in niz:\n",
    "        return str(int(re.findall(r\"\\d+\", niz)[0]) * 60 + int(re.findall(r\"\\d+\", niz)[1]))\n",
    "    elif niz[-3:] == 'min':\n",
    "        return str(niz.split(' ')[0])\n",
    "    elif niz[-3:] in {'ura', ' ur', 'ure', \"uri\"}:\n",
    "        return str(int(re.findall(r\"\\d+\", niz)[0]) * 60)\n",
    "    else:\n",
    "        return None\n",
    "\n",
    "def povp(df):\n",
    "    return (df - df.mean()) / df.std()\n",
    "\n",
    "def minmax(df):\n",
    "    return (df - df.min()) / (df.max() - df.min())"
   ]
  },
  {
   "cell_type": "code",
   "execution_count": 300,
   "metadata": {},
   "outputs": [],
   "source": [
    "recepti = pd.read_csv('podatki_z_indeksi.csv')\n",
    "sestavine = pd.read_csv('sestavine.csv')\n",
    "postopki = pd.read_csv('postopki.csv')\n",
    "\n",
    "\n",
    "recepti['čas_priprave_min'] = recepti['čas_priprave'].apply(cas_v_minutah)\n",
    "maska = ~recepti[\"čas_priprave_min\"].isnull()\n",
    "t = pd.to_numeric(recepti[\"čas_priprave_min\"])[maska]\n",
    "\n",
    "\n",
    "t_norm = povp(t)\n",
    "\n",
    "postopki['dolzina'] = postopki.postopek.str.split(\" \").str.len()\n",
    "l = postopki.groupby(\"indeks\").sum(\"dolzina\").dolzina[maska]\n",
    "l_ = l\n",
    "\n",
    "l_norm = povp(l_)\n",
    "\n",
    "n = sestavine.groupby(\"indeks\").size()[maska]\n",
    "n_ = np.log(n)\n",
    "\n",
    "n_norm = povp(n_)\n",
    "\n",
    "zahtevnost = recepti['čas_priprave_min'].copy()\n",
    "zahtevnost[maska] =  (t_norm * l_norm * n_norm)\n",
    "recepti[\"zahtevnost\"] = povp(zahtevnost)\n"
   ]
  },
  {
   "cell_type": "markdown",
   "metadata": {},
   "source": [
    "Zdaj smo dobili porazdelitev receptov glede na njihovo zahtevnost, izračunano po naši formuli in standardno porazdeljene. Sedaj bomo odstranili 20 največjih in najmanjših, jim dali oceno 5 oz. 0, ostale pa normirali od 0 do 5."
   ]
  },
  {
   "cell_type": "code",
   "execution_count": 301,
   "metadata": {},
   "outputs": [
    {
     "name": "stdout",
     "output_type": "stream",
     "text": [
      "lower: -1.8636943557439394, upper: 3.0709304681578353\n",
      "0 5\n"
     ]
    },
    {
     "name": "stderr",
     "output_type": "stream",
     "text": [
      "C:\\Users\\Marija\\AppData\\Local\\Temp\\ipykernel_9848\\775650510.py:20: SettingWithCopyWarning: \n",
      "A value is trying to be set on a copy of a slice from a DataFrame\n",
      "\n",
      "See the caveats in the documentation: https://pandas.pydata.org/pandas-docs/stable/user_guide/indexing.html#returning-a-view-versus-a-copy\n",
      "  recepti[\"zahtevnost\"][maska_na] = zahtevnost_brez_na\n"
     ]
    },
    {
     "data": {
      "image/png": "[encoded data removed]",
      "text/plain": [
       "<Figure size 432x288 with 1 Axes>"
      ]
     },
     "metadata": {
      "needs_background": "light"
     },
     "output_type": "display_data"
    }
   ],
   "source": [
    "maska_na = ~recepti['zahtevnost'].isna()\n",
    "zahtevnost_brez_na = recepti['zahtevnost'][maska_na]\n",
    "sez = zahtevnost_brez_na.copy().to_numpy()\n",
    "sez.sort()\n",
    "lower, upper = sez[20], sez[-100]\n",
    "\n",
    "print(f\"lower: {lower}, upper: {upper}\")\n",
    "\n",
    "maska = (zahtevnost_brez_na < upper) & (zahtevnost_brez_na > lower)\n",
    "\n",
    "zahtevnost_brez_na[maska] = 5 * minmax(zahtevnost_brez_na[maska])\n",
    "zahtevnost_brez_na[zahtevnost_brez_na >= upper] = 5\n",
    "zahtevnost_brez_na[zahtevnost_brez_na <= lower] = 0\n",
    "print(zahtevnost_brez_na.min(), zahtevnost_brez_na.max())\n",
    "\n",
    "_ = plt.hist(zahtevnost_brez_na.to_numpy(), bins=100)\n",
    "\n",
    "\n",
    "\n",
    "recepti[\"zahtevnost\"][maska_na] = zahtevnost_brez_na\n",
    "\n",
    "# a = recepti.groupby(\"zahtevnost\").size()\n",
    "# a.plot()"
   ]
  },
  {
   "cell_type": "markdown",
   "metadata": {},
   "source": [
    "Dobili smo ocene zahtevnosti analiziranih receptov glede na izbrani kriterij.\n",
    "\n",
    "Sedaj pa nas zanima še primerjava med našimi izračuni in ocenami, ki so jih predvideli avtorji receptov.\n",
    "Izračunamo razmerje $z/t$, kjer je $z$ zahtevnost, izračunana po naših postopkih, $t$ pa predvidena težavnost, podana na strani. Odstopanje zahtevnosti podem izrazimo kot $1 - z/t$."
   ]
  },
  {
   "cell_type": "code",
   "execution_count": 302,
   "metadata": {},
   "outputs": [],
   "source": [
    "recepti[\"odstopanje_zahtevnosti\"] = 1 - recepti[\"zahtevnost\"] / recepti[\"predvidena_tezavnost\"]"
   ]
  },
  {
   "cell_type": "code",
   "execution_count": 303,
   "metadata": {},
   "outputs": [
    {
     "name": "stderr",
     "output_type": "stream",
     "text": [
      "C:\\Users\\Marija\\AppData\\Local\\Packages\\PythonSoftwareFoundation.Python.3.10_qbz5n2kfra8p0\\LocalCache\\local-packages\\Python310\\site-packages\\numpy\\lib\\histograms.py:837: RuntimeWarning: invalid value encountered in greater_equal\n",
      "  keep = (tmp_a >= first_edge)\n",
      "C:\\Users\\Marija\\AppData\\Local\\Packages\\PythonSoftwareFoundation.Python.3.10_qbz5n2kfra8p0\\LocalCache\\local-packages\\Python310\\site-packages\\numpy\\lib\\histograms.py:838: RuntimeWarning: invalid value encountered in less_equal\n",
      "  keep &= (tmp_a <= last_edge)\n"
     ]
    },
    {
     "data": {
      "image/png": "[encoded data removed]",
      "text/plain": [
       "<Figure size 432x288 with 1 Axes>"
      ]
     },
     "metadata": {
      "needs_background": "light"
     },
     "output_type": "display_data"
    }
   ],
   "source": [
    "%matplotlib inline\n",
    "\n",
    "_ = plt.hist(recepti[\"odstopanje_zahtevnosti\"], bins=100)"
   ]
  },
  {
   "cell_type": "markdown",
   "metadata": {},
   "source": [
    "Opazimo lahko, da so na ta način dobljena odstopanja večinoma med vrednostima + 1 in - 1. Večina receptov na ta način dobi oceno malce pod 2.\n",
    "\n",
    "Preverimo lahko še, kolikšna so odstopanja pri predvideno lažjih oz. težjih receptih."
   ]
  },
  {
   "cell_type": "code",
   "execution_count": 304,
   "metadata": {},
   "outputs": [
    {
     "data": {
      "text/plain": [
       "<AxesSubplot: xlabel='zahtevnost', ylabel='predvidena_tezavnost'>"
      ]
     },
     "execution_count": 304,
     "metadata": {},
     "output_type": "execute_result"
    },
    {
     "data": {
      "image/png": "[encoded data removed]",
      "text/plain": [
       "<Figure size 432x288 with 1 Axes>"
      ]
     },
     "metadata": {
      "needs_background": "light"
     },
     "output_type": "display_data"
    }
   ],
   "source": [
    "recepti.sort_values('zahtevnost').plot.scatter(x='zahtevnost', y='predvidena_tezavnost')"
   ]
  },
  {
   "cell_type": "markdown",
   "metadata": {},
   "source": [
    "Oceno težavnosti poskusimo določiti še na drug način: postavimo kriterij, po katerem od 0 do 5 ocenimo težavnost časa priprave, števila sestavin in dolžine postopka. Nato izračunamo njihovo povprečje, kar postane skupna ocena zahtevnosti."
   ]
  },
  {
   "cell_type": "code",
   "execution_count": 305,
   "metadata": {},
   "outputs": [],
   "source": [
    "def casovni_kriterij(cas_v_minutah):\n",
    "    cas_v_minutah = int(cas_v_minutah)\n",
    "    if cas_v_minutah >= 69:\n",
    "        return 5\n",
    "    else:\n",
    "        return (0.0971636 * (cas_v_minutah ** 0.944257)) - 0.383887\n",
    "\n",
    "def sestavine_kriterij(st_sestavin):\n",
    "    if st_sestavin >= 11:\n",
    "        return 5\n",
    "    else:\n",
    "        return (st_sestavin - 3) / 2 \n",
    "\n",
    "def postopek_kriterij(dolzina_postopka):\n",
    "    if dolzina_postopka <= 10:\n",
    "        return 0\n",
    "    elif dolzina_postopka >= 435:\n",
    "        return 5\n",
    "    else:\n",
    "        return (0.257975 * (dolzina_postopka ** 0.513715)) - 0.853943\n"
   ]
  },
  {
   "cell_type": "code",
   "execution_count": 306,
   "metadata": {},
   "outputs": [
    {
     "data": {
      "image/png": "[encoded data removed]",
      "text/plain": [
       "<Figure size 432x288 with 1 Axes>"
      ]
     },
     "metadata": {
      "needs_background": "light"
     },
     "output_type": "display_data"
    }
   ],
   "source": [
    "recepti = pd.read_csv('podatki_z_indeksi.csv')\n",
    "sestavine = pd.read_csv('sestavine.csv')\n",
    "postopki = pd.read_csv('postopki.csv')\n",
    "\n",
    "\n",
    "recepti['čas_priprave_min'] = recepti['čas_priprave'].apply(cas_v_minutah)\n",
    "maska = ~recepti[\"čas_priprave_min\"].isnull()\n",
    "t = recepti[\"čas_priprave_min\"][maska].apply(casovni_kriterij)\n",
    "\n",
    "postopki['dolzina'] = postopki.postopek.str.split(\" \").str.len()\n",
    "l = postopki.groupby(\"indeks\").sum(\"dolzina\").dolzina[maska]\n",
    "l = l.apply(postopek_kriterij)\n",
    "\n",
    "n = sestavine.groupby(\"indeks\").size()[maska]\n",
    "n = n.apply(sestavine_kriterij)\n",
    "\n",
    "\n",
    "\n",
    "zahtevnost = recepti['čas_priprave_min'].copy()\n",
    "zahtevnost[maska] =  (t + l + n) / 3\n",
    "recepti[\"zahtevnost1\"] = zahtevnost\n",
    "\n",
    "_ = plt.hist(pd.to_numeric(recepti[\"zahtevnost1\"]), bins=100)"
   ]
  },
  {
   "cell_type": "code",
   "execution_count": 307,
   "metadata": {},
   "outputs": [
    {
     "name": "stderr",
     "output_type": "stream",
     "text": [
      "C:\\Users\\Marija\\AppData\\Local\\Packages\\PythonSoftwareFoundation.Python.3.10_qbz5n2kfra8p0\\LocalCache\\local-packages\\Python310\\site-packages\\numpy\\lib\\histograms.py:837: RuntimeWarning: invalid value encountered in greater_equal\n",
      "  keep = (tmp_a >= first_edge)\n",
      "C:\\Users\\Marija\\AppData\\Local\\Packages\\PythonSoftwareFoundation.Python.3.10_qbz5n2kfra8p0\\LocalCache\\local-packages\\Python310\\site-packages\\numpy\\lib\\histograms.py:838: RuntimeWarning: invalid value encountered in less_equal\n",
      "  keep &= (tmp_a <= last_edge)\n"
     ]
    },
    {
     "data": {
      "image/png": "[encoded data removed]",
      "text/plain": [
       "<Figure size 432x288 with 1 Axes>"
      ]
     },
     "metadata": {
      "needs_background": "light"
     },
     "output_type": "display_data"
    }
   ],
   "source": [
    "recepti[\"odstopanje_zahtevnosti1\"] = 1 - recepti[\"zahtevnost1\"] / recepti[\"predvidena_tezavnost\"]\n",
    "\n",
    "_ = plt.hist(recepti[\"odstopanje_zahtevnosti1\"], bins=100)"
   ]
  },
  {
   "cell_type": "markdown",
   "metadata": {},
   "source": [
    "Po tej oceni so recepti v povprečju zahtevnejši, pa tudi odstopanja s predvivenimi vrednostmi so večja."
   ]
  },
  {
   "cell_type": "markdown",
   "metadata": {},
   "source": [
    "### Napoved kategorije iz sestavin z uporabo naivnega Bayesovega klasifikatorja\n",
    "\n",
    "Z uporabo naivnega Bayesovega klasifikatorja iz sestavin poskusimo določiti kategorijo jedi.\n",
    "\n",
    "Hipoteza: za sladice in mesne jedi, katerih večinska sestavina je meso, bo napoved precej natančna, za ostale kategorije pa ne tako zelo."
   ]
  },
  {
   "cell_type": "code",
   "execution_count": 308,
   "metadata": {},
   "outputs": [
    {
     "data": {
      "text/html": [
       "<div>\n",
       "<style scoped>\n",
       "    .dataframe tbody tr th:only-of-type {\n",
       "        vertical-align: middle;\n",
       "    }\n",
       "\n",
       "    .dataframe tbody tr th {\n",
       "        vertical-align: top;\n",
       "    }\n",
       "\n",
       "    .dataframe thead th {\n",
       "        text-align: right;\n",
       "    }\n",
       "</style>\n",
       "<table border=\"1\" class=\"dataframe\">\n",
       "  <thead>\n",
       "    <tr style=\"text-align: right;\">\n",
       "      <th></th>\n",
       "      <th>Unnamed: 0</th>\n",
       "      <th>indeks</th>\n",
       "      <th>ime</th>\n",
       "      <th>kategorija</th>\n",
       "      <th>količina</th>\n",
       "      <th>sestavina</th>\n",
       "    </tr>\n",
       "  </thead>\n",
       "  <tbody>\n",
       "    <tr>\n",
       "      <th>0</th>\n",
       "      <td>0</td>\n",
       "      <td>0</td>\n",
       "      <td>Cmočki šarenke v žametni bučni juhi</td>\n",
       "      <td>juha</td>\n",
       "      <td>2 kosa</td>\n",
       "      <td>šarenke</td>\n",
       "    </tr>\n",
       "    <tr>\n",
       "      <th>1</th>\n",
       "      <td>0</td>\n",
       "      <td>0</td>\n",
       "      <td>Cmočki šarenke v žametni bučni juhi</td>\n",
       "      <td>juha</td>\n",
       "      <td>2 kosa</td>\n",
       "      <td>čebule</td>\n",
       "    </tr>\n",
       "    <tr>\n",
       "      <th>2</th>\n",
       "      <td>0</td>\n",
       "      <td>0</td>\n",
       "      <td>Cmočki šarenke v žametni bučni juhi</td>\n",
       "      <td>juha</td>\n",
       "      <td>NaN</td>\n",
       "      <td>česen</td>\n",
       "    </tr>\n",
       "    <tr>\n",
       "      <th>3</th>\n",
       "      <td>0</td>\n",
       "      <td>0</td>\n",
       "      <td>Cmočki šarenke v žametni bučni juhi</td>\n",
       "      <td>juha</td>\n",
       "      <td>1 šopek</td>\n",
       "      <td>peteršilja</td>\n",
       "    </tr>\n",
       "    <tr>\n",
       "      <th>4</th>\n",
       "      <td>0</td>\n",
       "      <td>0</td>\n",
       "      <td>Cmočki šarenke v žametni bučni juhi</td>\n",
       "      <td>juha</td>\n",
       "      <td>400 g</td>\n",
       "      <td>krompirja</td>\n",
       "    </tr>\n",
       "    <tr>\n",
       "      <th>...</th>\n",
       "      <td>...</td>\n",
       "      <td>...</td>\n",
       "      <td>...</td>\n",
       "      <td>...</td>\n",
       "      <td>...</td>\n",
       "      <td>...</td>\n",
       "    </tr>\n",
       "    <tr>\n",
       "      <th>162301</th>\n",
       "      <td>12765</td>\n",
       "      <td>12765</td>\n",
       "      <td>Jagodni semifreddo</td>\n",
       "      <td>sladice</td>\n",
       "      <td>1</td>\n",
       "      <td>jajce</td>\n",
       "    </tr>\n",
       "    <tr>\n",
       "      <th>162302</th>\n",
       "      <td>12765</td>\n",
       "      <td>12765</td>\n",
       "      <td>Jagodni semifreddo</td>\n",
       "      <td>sladice</td>\n",
       "      <td>100 g</td>\n",
       "      <td>mlečne čokolade</td>\n",
       "    </tr>\n",
       "    <tr>\n",
       "      <th>162303</th>\n",
       "      <td>12765</td>\n",
       "      <td>12765</td>\n",
       "      <td>Jagodni semifreddo</td>\n",
       "      <td>sladice</td>\n",
       "      <td>400 g</td>\n",
       "      <td>jagod</td>\n",
       "    </tr>\n",
       "    <tr>\n",
       "      <th>162304</th>\n",
       "      <td>12765</td>\n",
       "      <td>12765</td>\n",
       "      <td>Jagodni semifreddo</td>\n",
       "      <td>sladice</td>\n",
       "      <td>500 ml</td>\n",
       "      <td>smetane za stepanje</td>\n",
       "    </tr>\n",
       "    <tr>\n",
       "      <th>162305</th>\n",
       "      <td>12765</td>\n",
       "      <td>12765</td>\n",
       "      <td>Jagodni semifreddo</td>\n",
       "      <td>sladice</td>\n",
       "      <td>150 g</td>\n",
       "      <td>sladkorja</td>\n",
       "    </tr>\n",
       "  </tbody>\n",
       "</table>\n",
       "<p>162306 rows × 6 columns</p>\n",
       "</div>"
      ],
      "text/plain": [
       "        Unnamed: 0  indeks                                  ime kategorija  \\\n",
       "0                0       0  Cmočki šarenke v žametni bučni juhi       juha   \n",
       "1                0       0  Cmočki šarenke v žametni bučni juhi       juha   \n",
       "2                0       0  Cmočki šarenke v žametni bučni juhi       juha   \n",
       "3                0       0  Cmočki šarenke v žametni bučni juhi       juha   \n",
       "4                0       0  Cmočki šarenke v žametni bučni juhi       juha   \n",
       "...            ...     ...                                  ...        ...   \n",
       "162301       12765   12765                   Jagodni semifreddo    sladice   \n",
       "162302       12765   12765                   Jagodni semifreddo    sladice   \n",
       "162303       12765   12765                   Jagodni semifreddo    sladice   \n",
       "162304       12765   12765                   Jagodni semifreddo    sladice   \n",
       "162305       12765   12765                   Jagodni semifreddo    sladice   \n",
       "\n",
       "        količina            sestavina  \n",
       "0        2 kosa               šarenke  \n",
       "1        2 kosa                čebule  \n",
       "2            NaN                česen  \n",
       "3       1 šopek            peteršilja  \n",
       "4         400 g             krompirja  \n",
       "...          ...                  ...  \n",
       "162301        1                 jajce  \n",
       "162302    100 g       mlečne čokolade  \n",
       "162303    400 g                 jagod  \n",
       "162304   500 ml   smetane za stepanje  \n",
       "162305    150 g             sladkorja  \n",
       "\n",
       "[162306 rows x 6 columns]"
      ]
     },
     "execution_count": 308,
     "metadata": {},
     "output_type": "execute_result"
    }
   ],
   "source": [
    "recepti = pd.read_csv('podatki_z_indeksi.csv')\n",
    "sestavine = pd.read_csv('sestavine.csv')\n",
    "\n",
    "zdruzena = pd.merge(recepti, sestavine)\n",
    "zdruzena.drop([\"povezava\", \"avtor\", \"čas_priprave\", \"povprečna_ocena\", \"predvidena_tezavnost\"], axis=1)"
   ]
  },
  {
   "cell_type": "markdown",
   "metadata": {},
   "source": [
    "Najprej izračunamo verjetnost, da se določena kategorija sploh pojavi."
   ]
  },
  {
   "cell_type": "code",
   "execution_count": 309,
   "metadata": {},
   "outputs": [
    {
     "data": {
      "text/plain": [
       "kategorija\n",
       "juha         0.049977\n",
       "meso         0.139825\n",
       "priloga      0.070265\n",
       "sladice      0.624393\n",
       "solata       0.043788\n",
       "zelenjava    0.071753\n",
       "Name: ime, dtype: float64"
      ]
     },
     "execution_count": 309,
     "metadata": {},
     "output_type": "execute_result"
    }
   ],
   "source": [
    "verjetnosti_kategorij = recepti.groupby('kategorija').count()[\"ime\"] / len(recepti)\n",
    "verjetnosti_kategorij"
   ]
  },
  {
   "cell_type": "markdown",
   "metadata": {},
   "source": [
    "Sedaj bomo izračunali verjetnost, da se sestavina pojavi v posameznih kategorijah.\n",
    "\n",
    "Najprej iz sestavin odstranimo morebitne povezave na reklame in opombe v oklepajih, ki jih dodajajo nekateri avtorji receptov:"
   ]
  },
  {
   "cell_type": "code",
   "execution_count": 310,
   "metadata": {},
   "outputs": [
    {
     "data": {
      "text/html": [
       "<div>\n",
       "<style scoped>\n",
       "    .dataframe tbody tr th:only-of-type {\n",
       "        vertical-align: middle;\n",
       "    }\n",
       "\n",
       "    .dataframe tbody tr th {\n",
       "        vertical-align: top;\n",
       "    }\n",
       "\n",
       "    .dataframe thead th {\n",
       "        text-align: right;\n",
       "    }\n",
       "</style>\n",
       "<table border=\"1\" class=\"dataframe\">\n",
       "  <thead>\n",
       "    <tr style=\"text-align: right;\">\n",
       "      <th></th>\n",
       "      <th>Unnamed: 0</th>\n",
       "      <th>indeks</th>\n",
       "      <th>ime</th>\n",
       "      <th>kategorija</th>\n",
       "      <th>količina</th>\n",
       "      <th>sestavina</th>\n",
       "    </tr>\n",
       "  </thead>\n",
       "  <tbody>\n",
       "    <tr>\n",
       "      <th>0</th>\n",
       "      <td>0</td>\n",
       "      <td>0</td>\n",
       "      <td>Cmočki šarenke v žametni bučni juhi</td>\n",
       "      <td>juha</td>\n",
       "      <td>2 kosa</td>\n",
       "      <td>šarenke</td>\n",
       "    </tr>\n",
       "    <tr>\n",
       "      <th>1</th>\n",
       "      <td>0</td>\n",
       "      <td>0</td>\n",
       "      <td>Cmočki šarenke v žametni bučni juhi</td>\n",
       "      <td>juha</td>\n",
       "      <td>2 kosa</td>\n",
       "      <td>čebule</td>\n",
       "    </tr>\n",
       "    <tr>\n",
       "      <th>2</th>\n",
       "      <td>0</td>\n",
       "      <td>0</td>\n",
       "      <td>Cmočki šarenke v žametni bučni juhi</td>\n",
       "      <td>juha</td>\n",
       "      <td>NaN</td>\n",
       "      <td>česen</td>\n",
       "    </tr>\n",
       "    <tr>\n",
       "      <th>3</th>\n",
       "      <td>0</td>\n",
       "      <td>0</td>\n",
       "      <td>Cmočki šarenke v žametni bučni juhi</td>\n",
       "      <td>juha</td>\n",
       "      <td>1 šopek</td>\n",
       "      <td>peteršilja</td>\n",
       "    </tr>\n",
       "    <tr>\n",
       "      <th>4</th>\n",
       "      <td>0</td>\n",
       "      <td>0</td>\n",
       "      <td>Cmočki šarenke v žametni bučni juhi</td>\n",
       "      <td>juha</td>\n",
       "      <td>400 g</td>\n",
       "      <td>krompirja</td>\n",
       "    </tr>\n",
       "    <tr>\n",
       "      <th>...</th>\n",
       "      <td>...</td>\n",
       "      <td>...</td>\n",
       "      <td>...</td>\n",
       "      <td>...</td>\n",
       "      <td>...</td>\n",
       "      <td>...</td>\n",
       "    </tr>\n",
       "    <tr>\n",
       "      <th>162301</th>\n",
       "      <td>12765</td>\n",
       "      <td>12765</td>\n",
       "      <td>Jagodni semifreddo</td>\n",
       "      <td>sladice</td>\n",
       "      <td>1</td>\n",
       "      <td>jajce</td>\n",
       "    </tr>\n",
       "    <tr>\n",
       "      <th>162302</th>\n",
       "      <td>12765</td>\n",
       "      <td>12765</td>\n",
       "      <td>Jagodni semifreddo</td>\n",
       "      <td>sladice</td>\n",
       "      <td>100 g</td>\n",
       "      <td>mlečne čokolade</td>\n",
       "    </tr>\n",
       "    <tr>\n",
       "      <th>162303</th>\n",
       "      <td>12765</td>\n",
       "      <td>12765</td>\n",
       "      <td>Jagodni semifreddo</td>\n",
       "      <td>sladice</td>\n",
       "      <td>400 g</td>\n",
       "      <td>jagod</td>\n",
       "    </tr>\n",
       "    <tr>\n",
       "      <th>162304</th>\n",
       "      <td>12765</td>\n",
       "      <td>12765</td>\n",
       "      <td>Jagodni semifreddo</td>\n",
       "      <td>sladice</td>\n",
       "      <td>500 ml</td>\n",
       "      <td>smetane za stepanje</td>\n",
       "    </tr>\n",
       "    <tr>\n",
       "      <th>162305</th>\n",
       "      <td>12765</td>\n",
       "      <td>12765</td>\n",
       "      <td>Jagodni semifreddo</td>\n",
       "      <td>sladice</td>\n",
       "      <td>150 g</td>\n",
       "      <td>sladkorja</td>\n",
       "    </tr>\n",
       "  </tbody>\n",
       "</table>\n",
       "<p>162306 rows × 6 columns</p>\n",
       "</div>"
      ],
      "text/plain": [
       "        Unnamed: 0  indeks                                  ime kategorija  \\\n",
       "0                0       0  Cmočki šarenke v žametni bučni juhi       juha   \n",
       "1                0       0  Cmočki šarenke v žametni bučni juhi       juha   \n",
       "2                0       0  Cmočki šarenke v žametni bučni juhi       juha   \n",
       "3                0       0  Cmočki šarenke v žametni bučni juhi       juha   \n",
       "4                0       0  Cmočki šarenke v žametni bučni juhi       juha   \n",
       "...            ...     ...                                  ...        ...   \n",
       "162301       12765   12765                   Jagodni semifreddo    sladice   \n",
       "162302       12765   12765                   Jagodni semifreddo    sladice   \n",
       "162303       12765   12765                   Jagodni semifreddo    sladice   \n",
       "162304       12765   12765                   Jagodni semifreddo    sladice   \n",
       "162305       12765   12765                   Jagodni semifreddo    sladice   \n",
       "\n",
       "        količina            sestavina  \n",
       "0        2 kosa               šarenke  \n",
       "1        2 kosa                čebule  \n",
       "2            NaN                česen  \n",
       "3       1 šopek            peteršilja  \n",
       "4         400 g             krompirja  \n",
       "...          ...                  ...  \n",
       "162301        1                 jajce  \n",
       "162302    100 g       mlečne čokolade  \n",
       "162303    400 g                 jagod  \n",
       "162304   500 ml   smetane za stepanje  \n",
       "162305    150 g             sladkorja  \n",
       "\n",
       "[162306 rows x 6 columns]"
      ]
     },
     "execution_count": 310,
     "metadata": {},
     "output_type": "execute_result"
    }
   ],
   "source": [
    "def odstrani_html(x):\n",
    "    return re.sub('<[^<]+?>', '', str(x))\n",
    "\n",
    "def odstrani_opombe(x):\n",
    "    return re.sub('\\(.*?\\)', '', str(x))\n",
    "\n",
    "zdruzena[\"sestavina\"] = zdruzena[\"sestavina\"].apply(odstrani_html)\n",
    "zdruzena[\"sestavina\"] = zdruzena[\"sestavina\"].apply(odstrani_opombe)\n",
    "\n",
    "zdruzena.drop([\"povezava\", \"avtor\", \"čas_priprave\", \"povprečna_ocena\", \"predvidena_tezavnost\"], axis=1)"
   ]
  },
  {
   "cell_type": "markdown",
   "metadata": {},
   "source": [
    "Sedaj iz sestavin izluščimo njihove korene."
   ]
  },
  {
   "cell_type": "code",
   "execution_count": 311,
   "metadata": {},
   "outputs": [],
   "source": [
    "def koren_besede(beseda):\n",
    "    beseda = ''.join(znak for znak in beseda if znak.isalpha())\n",
    "    if not beseda:\n",
    "        return '$'\n",
    "    beseda = beseda.removesuffix('ga')\n",
    "    beseda = beseda.rstrip('hgvn')\n",
    "    beseda = beseda.rstrip('aeiou')\n",
    "    beseda = beseda.strip('0123456789(),;-')\n",
    "    return beseda\n",
    "\n",
    "def koreni_besed(niz):\n",
    "    return pd.Series(sorted({\n",
    "        koren_besede(beseda) for beseda in niz.lower().split() if beseda\n",
    "    }))"
   ]
  },
  {
   "cell_type": "code",
   "execution_count": 312,
   "metadata": {},
   "outputs": [
    {
     "data": {
      "text/plain": [
       "0                     šarenke\n",
       "1                      čebule\n",
       "2                       česen\n",
       "3                  peteršilja\n",
       "4                   krompirja\n",
       "                 ...         \n",
       "162301                  jajce\n",
       "162302        mlečne čokolade\n",
       "162303                  jagod\n",
       "162304    smetane za stepanje\n",
       "162305              sladkorja\n",
       "Name: sestavina, Length: 162306, dtype: object"
      ]
     },
     "execution_count": 312,
     "metadata": {},
     "output_type": "execute_result"
    }
   ],
   "source": [
    "zdruzena.sestavina"
   ]
  },
  {
   "cell_type": "code",
   "execution_count": 313,
   "metadata": {},
   "outputs": [
    {
     "name": "stderr",
     "output_type": "stream",
     "text": [
      "C:\\Users\\Marija\\AppData\\Local\\Temp\\ipykernel_9848\\2255164173.py:12: FutureWarning: The default dtype for empty Series will be 'object' instead of 'float64' in a future version. Specify a dtype explicitly to silence this warning.\n",
      "  return pd.Series(sorted({\n"
     ]
    }
   ],
   "source": [
    "koreni_sestavine = zdruzena.sestavina.apply(koreni_besed)"
   ]
  },
  {
   "cell_type": "markdown",
   "metadata": {},
   "source": [
    "V tabelo receptov vsakemu receptu dodamo še seznam korenov sestavin, ki nastopajo v njem:"
   ]
  },
  {
   "cell_type": "code",
   "execution_count": 314,
   "metadata": {},
   "outputs": [],
   "source": [
    "sez = []\n",
    "\n",
    "for i in range(len(recepti)):\n",
    "    recept = i\n",
    "    sestavine_recept = koreni_sestavine[sestavine['indeks'] == recept].to_numpy().flatten()\n",
    "    sestavine__recept = [*filter(lambda v: v==v, sestavine_recept)]\n",
    "\n",
    "    sez.append(sestavine__recept)\n",
    "\n",
    "\n",
    "recepti[\"sestavine\"] = sez\n"
   ]
  },
  {
   "cell_type": "markdown",
   "metadata": {},
   "source": [
    "Preštejemo, kolikokrat se v določeni kategoriji pojavijo posamezni koreni besed in izračunamo verjetnost, da se posamezni koren pojavi v določeni kategoriji:"
   ]
  },
  {
   "cell_type": "code",
   "execution_count": 315,
   "metadata": {},
   "outputs": [
    {
     "data": {
      "text/html": [
       "<div>\n",
       "<style scoped>\n",
       "    .dataframe tbody tr th:only-of-type {\n",
       "        vertical-align: middle;\n",
       "    }\n",
       "\n",
       "    .dataframe tbody tr th {\n",
       "        vertical-align: top;\n",
       "    }\n",
       "\n",
       "    .dataframe thead th {\n",
       "        text-align: right;\n",
       "    }\n",
       "</style>\n",
       "<table border=\"1\" class=\"dataframe\">\n",
       "  <thead>\n",
       "    <tr style=\"text-align: right;\">\n",
       "      <th></th>\n",
       "      <th>koren</th>\n",
       "      <th>kategorija</th>\n",
       "    </tr>\n",
       "  </thead>\n",
       "  <tbody>\n",
       "    <tr>\n",
       "      <th>0</th>\n",
       "      <td>šarenk</td>\n",
       "      <td>juha</td>\n",
       "    </tr>\n",
       "    <tr>\n",
       "      <th>1</th>\n",
       "      <td>čebul</td>\n",
       "      <td>juha</td>\n",
       "    </tr>\n",
       "    <tr>\n",
       "      <th>2</th>\n",
       "      <td>čes</td>\n",
       "      <td>juha</td>\n",
       "    </tr>\n",
       "    <tr>\n",
       "      <th>3</th>\n",
       "      <td>peteršilj</td>\n",
       "      <td>juha</td>\n",
       "    </tr>\n",
       "    <tr>\n",
       "      <th>4</th>\n",
       "      <td>krompirj</td>\n",
       "      <td>juha</td>\n",
       "    </tr>\n",
       "    <tr>\n",
       "      <th>...</th>\n",
       "      <td>...</td>\n",
       "      <td>...</td>\n",
       "    </tr>\n",
       "    <tr>\n",
       "      <th>299142</th>\n",
       "      <td>jagod</td>\n",
       "      <td>sladice</td>\n",
       "    </tr>\n",
       "    <tr>\n",
       "      <th>299143</th>\n",
       "      <td>smetan</td>\n",
       "      <td>sladice</td>\n",
       "    </tr>\n",
       "    <tr>\n",
       "      <th>299144</th>\n",
       "      <td>stepanj</td>\n",
       "      <td>sladice</td>\n",
       "    </tr>\n",
       "    <tr>\n",
       "      <th>299145</th>\n",
       "      <td>z</td>\n",
       "      <td>sladice</td>\n",
       "    </tr>\n",
       "    <tr>\n",
       "      <th>299146</th>\n",
       "      <td>sladkorj</td>\n",
       "      <td>sladice</td>\n",
       "    </tr>\n",
       "  </tbody>\n",
       "</table>\n",
       "<p>299147 rows × 2 columns</p>\n",
       "</div>"
      ],
      "text/plain": [
       "            koren kategorija\n",
       "0          šarenk       juha\n",
       "1           čebul       juha\n",
       "2             čes       juha\n",
       "3       peteršilj       juha\n",
       "4        krompirj       juha\n",
       "...           ...        ...\n",
       "299142      jagod    sladice\n",
       "299143     smetan    sladice\n",
       "299144    stepanj    sladice\n",
       "299145          z    sladice\n",
       "299146   sladkorj    sladice\n",
       "\n",
       "[299147 rows x 2 columns]"
      ]
     },
     "execution_count": 315,
     "metadata": {},
     "output_type": "execute_result"
    }
   ],
   "source": [
    "sestavine = []\n",
    "kategorije = []\n",
    "\n",
    "for sez, kat in recepti[[\"sestavine\", \"kategorija\"]].iloc:\n",
    "    for sest in sez:\n",
    "        if sest != '$':\n",
    "            sestavine.append(sest)\n",
    "            kategorije.append(kat)\n",
    "\n",
    "koreni_po_kategorijah = pd.DataFrame(list(zip(sestavine, kategorije)), columns =['koren', 'kategorija'])\n",
    "koreni_po_kategorijah"
   ]
  },
  {
   "cell_type": "code",
   "execution_count": 316,
   "metadata": {},
   "outputs": [
    {
     "data": {
      "text/html": [
       "<div>\n",
       "<style scoped>\n",
       "    .dataframe tbody tr th:only-of-type {\n",
       "        vertical-align: middle;\n",
       "    }\n",
       "\n",
       "    .dataframe tbody tr th {\n",
       "        vertical-align: top;\n",
       "    }\n",
       "\n",
       "    .dataframe thead th {\n",
       "        text-align: right;\n",
       "    }\n",
       "</style>\n",
       "<table border=\"1\" class=\"dataframe\">\n",
       "  <thead>\n",
       "    <tr style=\"text-align: right;\">\n",
       "      <th>kategorija</th>\n",
       "      <th>juha</th>\n",
       "      <th>meso</th>\n",
       "      <th>priloga</th>\n",
       "      <th>sladice</th>\n",
       "      <th>solata</th>\n",
       "      <th>zelenjava</th>\n",
       "    </tr>\n",
       "    <tr>\n",
       "      <th>koren</th>\n",
       "      <th></th>\n",
       "      <th></th>\n",
       "      <th></th>\n",
       "      <th></th>\n",
       "      <th></th>\n",
       "      <th></th>\n",
       "    </tr>\n",
       "  </thead>\n",
       "  <tbody>\n",
       "    <tr>\n",
       "      <th></th>\n",
       "      <td>213.0</td>\n",
       "      <td>713.0</td>\n",
       "      <td>529.0</td>\n",
       "      <td>4417.0</td>\n",
       "      <td>281.0</td>\n",
       "      <td>560.0</td>\n",
       "    </tr>\n",
       "    <tr>\n",
       "      <th>abc</th>\n",
       "      <td>NaN</td>\n",
       "      <td>NaN</td>\n",
       "      <td>NaN</td>\n",
       "      <td>2.0</td>\n",
       "      <td>NaN</td>\n",
       "      <td>NaN</td>\n",
       "    </tr>\n",
       "    <tr>\n",
       "      <th>ac</th>\n",
       "      <td>NaN</td>\n",
       "      <td>NaN</td>\n",
       "      <td>NaN</td>\n",
       "      <td>3.0</td>\n",
       "      <td>NaN</td>\n",
       "      <td>NaN</td>\n",
       "    </tr>\n",
       "    <tr>\n",
       "      <th>acet</th>\n",
       "      <td>NaN</td>\n",
       "      <td>NaN</td>\n",
       "      <td>2.0</td>\n",
       "      <td>NaN</td>\n",
       "      <td>NaN</td>\n",
       "      <td>NaN</td>\n",
       "    </tr>\n",
       "    <tr>\n",
       "      <th>acetatn</th>\n",
       "      <td>NaN</td>\n",
       "      <td>NaN</td>\n",
       "      <td>NaN</td>\n",
       "      <td>1.0</td>\n",
       "      <td>NaN</td>\n",
       "      <td>NaN</td>\n",
       "    </tr>\n",
       "    <tr>\n",
       "      <th>...</th>\n",
       "      <td>...</td>\n",
       "      <td>...</td>\n",
       "      <td>...</td>\n",
       "      <td>...</td>\n",
       "      <td>...</td>\n",
       "      <td>...</td>\n",
       "    </tr>\n",
       "    <tr>\n",
       "      <th>žlčk</th>\n",
       "      <td>1.0</td>\n",
       "      <td>NaN</td>\n",
       "      <td>NaN</td>\n",
       "      <td>1.0</td>\n",
       "      <td>NaN</td>\n",
       "      <td>NaN</td>\n",
       "    </tr>\n",
       "    <tr>\n",
       "      <th>žogic</th>\n",
       "      <td>NaN</td>\n",
       "      <td>NaN</td>\n",
       "      <td>NaN</td>\n",
       "      <td>1.0</td>\n",
       "      <td>NaN</td>\n",
       "      <td>NaN</td>\n",
       "    </tr>\n",
       "    <tr>\n",
       "      <th>žrebičk</th>\n",
       "      <td>NaN</td>\n",
       "      <td>1.0</td>\n",
       "      <td>NaN</td>\n",
       "      <td>NaN</td>\n",
       "      <td>NaN</td>\n",
       "      <td>NaN</td>\n",
       "    </tr>\n",
       "    <tr>\n",
       "      <th>žrebičkov</th>\n",
       "      <td>NaN</td>\n",
       "      <td>3.0</td>\n",
       "      <td>NaN</td>\n",
       "      <td>NaN</td>\n",
       "      <td>NaN</td>\n",
       "      <td>NaN</td>\n",
       "    </tr>\n",
       "    <tr>\n",
       "      <th>žvrkljanj</th>\n",
       "      <td>NaN</td>\n",
       "      <td>NaN</td>\n",
       "      <td>NaN</td>\n",
       "      <td>1.0</td>\n",
       "      <td>NaN</td>\n",
       "      <td>NaN</td>\n",
       "    </tr>\n",
       "  </tbody>\n",
       "</table>\n",
       "<p>5034 rows × 6 columns</p>\n",
       "</div>"
      ],
      "text/plain": [
       "kategorija   juha   meso  priloga  sladice  solata  zelenjava\n",
       "koren                                                        \n",
       "            213.0  713.0    529.0   4417.0   281.0      560.0\n",
       "abc           NaN    NaN      NaN      2.0     NaN        NaN\n",
       "ac            NaN    NaN      NaN      3.0     NaN        NaN\n",
       "acet          NaN    NaN      2.0      NaN     NaN        NaN\n",
       "acetatn       NaN    NaN      NaN      1.0     NaN        NaN\n",
       "...           ...    ...      ...      ...     ...        ...\n",
       "žlčk          1.0    NaN      NaN      1.0     NaN        NaN\n",
       "žogic         NaN    NaN      NaN      1.0     NaN        NaN\n",
       "žrebičk       NaN    1.0      NaN      NaN     NaN        NaN\n",
       "žrebičkov     NaN    3.0      NaN      NaN     NaN        NaN\n",
       "žvrkljanj     NaN    NaN      NaN      1.0     NaN        NaN\n",
       "\n",
       "[5034 rows x 6 columns]"
      ]
     },
     "execution_count": 316,
     "metadata": {},
     "output_type": "execute_result"
    }
   ],
   "source": [
    "pojavitve_korenov_po_kategorijah = koreni_po_kategorijah.groupby(['koren', 'kategorija']).size().unstack()\n",
    "pojavitve_korenov_po_kategorijah"
   ]
  },
  {
   "cell_type": "code",
   "execution_count": 318,
   "metadata": {},
   "outputs": [
    {
     "data": {
      "text/html": [
       "<div>\n",
       "<style scoped>\n",
       "    .dataframe tbody tr th:only-of-type {\n",
       "        vertical-align: middle;\n",
       "    }\n",
       "\n",
       "    .dataframe tbody tr th {\n",
       "        vertical-align: top;\n",
       "    }\n",
       "\n",
       "    .dataframe thead th {\n",
       "        text-align: right;\n",
       "    }\n",
       "</style>\n",
       "<table border=\"1\" class=\"dataframe\">\n",
       "  <thead>\n",
       "    <tr style=\"text-align: right;\">\n",
       "      <th>kategorija</th>\n",
       "      <th>juha</th>\n",
       "      <th>meso</th>\n",
       "      <th>priloga</th>\n",
       "      <th>sladice</th>\n",
       "      <th>solata</th>\n",
       "      <th>zelenjava</th>\n",
       "    </tr>\n",
       "    <tr>\n",
       "      <th>koren</th>\n",
       "      <th></th>\n",
       "      <th></th>\n",
       "      <th></th>\n",
       "      <th></th>\n",
       "      <th></th>\n",
       "      <th></th>\n",
       "    </tr>\n",
       "  </thead>\n",
       "  <tbody>\n",
       "    <tr>\n",
       "      <th></th>\n",
       "      <td>0.333856</td>\n",
       "      <td>0.399440</td>\n",
       "      <td>0.589744</td>\n",
       "      <td>0.554134</td>\n",
       "      <td>0.502683</td>\n",
       "      <td>0.611354</td>\n",
       "    </tr>\n",
       "    <tr>\n",
       "      <th>abc</th>\n",
       "      <td>0.000100</td>\n",
       "      <td>0.000100</td>\n",
       "      <td>0.000100</td>\n",
       "      <td>0.000251</td>\n",
       "      <td>0.000100</td>\n",
       "      <td>0.000100</td>\n",
       "    </tr>\n",
       "    <tr>\n",
       "      <th>ac</th>\n",
       "      <td>0.000100</td>\n",
       "      <td>0.000100</td>\n",
       "      <td>0.000100</td>\n",
       "      <td>0.000376</td>\n",
       "      <td>0.000100</td>\n",
       "      <td>0.000100</td>\n",
       "    </tr>\n",
       "    <tr>\n",
       "      <th>acet</th>\n",
       "      <td>0.000100</td>\n",
       "      <td>0.000100</td>\n",
       "      <td>0.002230</td>\n",
       "      <td>0.000100</td>\n",
       "      <td>0.000100</td>\n",
       "      <td>0.000100</td>\n",
       "    </tr>\n",
       "    <tr>\n",
       "      <th>acetatn</th>\n",
       "      <td>0.000100</td>\n",
       "      <td>0.000100</td>\n",
       "      <td>0.000100</td>\n",
       "      <td>0.000125</td>\n",
       "      <td>0.000100</td>\n",
       "      <td>0.000100</td>\n",
       "    </tr>\n",
       "    <tr>\n",
       "      <th>...</th>\n",
       "      <td>...</td>\n",
       "      <td>...</td>\n",
       "      <td>...</td>\n",
       "      <td>...</td>\n",
       "      <td>...</td>\n",
       "      <td>...</td>\n",
       "    </tr>\n",
       "    <tr>\n",
       "      <th>žlčk</th>\n",
       "      <td>0.001567</td>\n",
       "      <td>0.000100</td>\n",
       "      <td>0.000100</td>\n",
       "      <td>0.000125</td>\n",
       "      <td>0.000100</td>\n",
       "      <td>0.000100</td>\n",
       "    </tr>\n",
       "    <tr>\n",
       "      <th>žogic</th>\n",
       "      <td>0.000100</td>\n",
       "      <td>0.000100</td>\n",
       "      <td>0.000100</td>\n",
       "      <td>0.000125</td>\n",
       "      <td>0.000100</td>\n",
       "      <td>0.000100</td>\n",
       "    </tr>\n",
       "    <tr>\n",
       "      <th>žrebičk</th>\n",
       "      <td>0.000100</td>\n",
       "      <td>0.000560</td>\n",
       "      <td>0.000100</td>\n",
       "      <td>0.000100</td>\n",
       "      <td>0.000100</td>\n",
       "      <td>0.000100</td>\n",
       "    </tr>\n",
       "    <tr>\n",
       "      <th>žrebičkov</th>\n",
       "      <td>0.000100</td>\n",
       "      <td>0.001681</td>\n",
       "      <td>0.000100</td>\n",
       "      <td>0.000100</td>\n",
       "      <td>0.000100</td>\n",
       "      <td>0.000100</td>\n",
       "    </tr>\n",
       "    <tr>\n",
       "      <th>žvrkljanj</th>\n",
       "      <td>0.000100</td>\n",
       "      <td>0.000100</td>\n",
       "      <td>0.000100</td>\n",
       "      <td>0.000125</td>\n",
       "      <td>0.000100</td>\n",
       "      <td>0.000100</td>\n",
       "    </tr>\n",
       "  </tbody>\n",
       "</table>\n",
       "<p>5034 rows × 6 columns</p>\n",
       "</div>"
      ],
      "text/plain": [
       "kategorija      juha      meso   priloga   sladice    solata  zelenjava\n",
       "koren                                                                  \n",
       "            0.333856  0.399440  0.589744  0.554134  0.502683   0.611354\n",
       "abc         0.000100  0.000100  0.000100  0.000251  0.000100   0.000100\n",
       "ac          0.000100  0.000100  0.000100  0.000376  0.000100   0.000100\n",
       "acet        0.000100  0.000100  0.002230  0.000100  0.000100   0.000100\n",
       "acetatn     0.000100  0.000100  0.000100  0.000125  0.000100   0.000100\n",
       "...              ...       ...       ...       ...       ...        ...\n",
       "žlčk        0.001567  0.000100  0.000100  0.000125  0.000100   0.000100\n",
       "žogic       0.000100  0.000100  0.000100  0.000125  0.000100   0.000100\n",
       "žrebičk     0.000100  0.000560  0.000100  0.000100  0.000100   0.000100\n",
       "žrebičkov   0.000100  0.001681  0.000100  0.000100  0.000100   0.000100\n",
       "žvrkljanj   0.000100  0.000100  0.000100  0.000125  0.000100   0.000100\n",
       "\n",
       "[5034 rows x 6 columns]"
      ]
     },
     "execution_count": 318,
     "metadata": {},
     "output_type": "execute_result"
    }
   ],
   "source": [
    "verjetnosti_korenov_po_kategorijah = (pojavitve_korenov_po_kategorijah / recepti.groupby('kategorija').size()).fillna(0.0001)\n",
    "verjetnosti_korenov_po_kategorijah"
   ]
  },
  {
   "cell_type": "markdown",
   "metadata": {},
   "source": [
    "S pomočjo nastavljenih spremenljivk in naivnega Bayesovega klasifikatorja lahko preprosto izračunamo verjetnost, da je nek recept določene kategorije na podlagi sestavin. Deluje tako, da med \"\"\" \"\"\" vstaviš sestavine, ki nastopajo v receptu, katerega kategorija te zanima."
   ]
  },
  {
   "cell_type": "code",
   "execution_count": 328,
   "metadata": {},
   "outputs": [
    {
     "name": "stderr",
     "output_type": "stream",
     "text": [
      "C:\\Users\\Marija\\AppData\\Local\\Temp\\ipykernel_9848\\2255164173.py:12: FutureWarning: The default dtype for empty Series will be 'object' instead of 'float64' in a future version. Specify a dtype explicitly to silence this warning.\n",
      "  return pd.Series(sorted({\n"
     ]
    },
    {
     "data": {
      "text/plain": [
       "kategorija\n",
       "sladice      0.624393\n",
       "meso         0.139825\n",
       "zelenjava    0.071753\n",
       "priloga      0.070265\n",
       "juha         0.049977\n",
       "solata       0.043788\n",
       "dtype: float64"
      ]
     },
     "execution_count": 328,
     "metadata": {},
     "output_type": "execute_result"
    }
   ],
   "source": [
    "sestavine_recepta = \"\"\" \"\"\" # Sem vstavite sestavine želenega recepta\n",
    "koreni_recepta = koreni_besed(sestavine_recepta)\n",
    "\n",
    "stevci_verjetnosti_kategorije_recepta = (verjetnosti_korenov_po_kategorijah[\n",
    "    verjetnosti_korenov_po_kategorijah.index.isin(koreni_recepta)\n",
    "].prod() * verjetnosti_kategorij)\n",
    "\n",
    "stevci_verjetnosti_kategorije_recepta.sort_values(ascending=False)"
   ]
  },
  {
   "cell_type": "markdown",
   "metadata": {},
   "source": [
    "Sedaj bom delovanje preiskusila na po enem receptu vsake kategorije, ki pa ga ne bom vzela s Kulinarike.\n",
    "\n",
    "Juha: ciganski golaž"
   ]
  },
  {
   "cell_type": "code",
   "execution_count": 329,
   "metadata": {},
   "outputs": [
    {
     "data": {
      "text/plain": [
       "kategorija\n",
       "zelenjava    1.376169e-30\n",
       "meso         3.240657e-34\n",
       "juha         1.565088e-35\n",
       "priloga      3.613969e-36\n",
       "solata       1.230836e-38\n",
       "sladice      4.250826e-61\n",
       "dtype: float64"
      ]
     },
     "execution_count": 329,
     "metadata": {},
     "output_type": "execute_result"
    }
   ],
   "source": [
    "sestavine_recepta = \"\"\"\n",
    "govejega mesa\n",
    "sončničnega olja\n",
    "rumenega korenčka\n",
    "rdečega korenčka\n",
    "rumene kolerabe\n",
    "gomolja zelene\n",
    "pastinaka\n",
    "čebule\n",
    "česna\n",
    "žlica bele moke tip 500\n",
    "žlica paradižnikove mezge\n",
    "sladke rdeče mlete paprike\n",
    "kislih kumaric\n",
    "listi lovorja\n",
    "vode\n",
    "sol po okusu\n",
    "poper po želji\n",
    " \"\"\" # Sem vstavite sestavine želenega recepta\n",
    "koreni_recepta = koreni_besed(sestavine_recepta)\n",
    "\n",
    "stevci_verjetnosti_kategorije_recepta = (verjetnosti_korenov_po_kategorijah[\n",
    "    verjetnosti_korenov_po_kategorijah.index.isin(koreni_recepta)\n",
    "].prod() * verjetnosti_kategorij)\n",
    "\n",
    "stevci_verjetnosti_kategorije_recepta.sort_values(ascending=False)"
   ]
  },
  {
   "cell_type": "markdown",
   "metadata": {},
   "source": [
    "Mesna jed: piščanec v pivskem testu"
   ]
  },
  {
   "cell_type": "code",
   "execution_count": 331,
   "metadata": {},
   "outputs": [
    {
     "data": {
      "text/plain": [
       "kategorija\n",
       "zelenjava    3.465829e-13\n",
       "meso         3.272408e-13\n",
       "solata       2.567066e-13\n",
       "priloga      2.854162e-16\n",
       "sladice      7.892452e-20\n",
       "juha         4.936219e-20\n",
       "dtype: float64"
      ]
     },
     "execution_count": 331,
     "metadata": {},
     "output_type": "execute_result"
    }
   ],
   "source": [
    "sestavine_recepta = \"\"\"\n",
    "piščančjih prsi\n",
    "soli\n",
    "bel poper po okusu\n",
    "moke\n",
    "Fala suhega kvasa\n",
    "soli\n",
    "piva\n",
    " \"\"\" # Sem vstavite sestavine želenega recepta\n",
    "koreni_recepta = koreni_besed(sestavine_recepta)\n",
    "\n",
    "stevci_verjetnosti_kategorije_recepta = (verjetnosti_korenov_po_kategorijah[\n",
    "    verjetnosti_korenov_po_kategorijah.index.isin(koreni_recepta)\n",
    "].prod() * verjetnosti_kategorij)\n",
    "\n",
    "stevci_verjetnosti_kategorije_recepta.sort_values(ascending=False)"
   ]
  },
  {
   "cell_type": "markdown",
   "metadata": {},
   "source": [
    "Zelenjavna jed: pečeni krompirjevi polpeti"
   ]
  },
  {
   "cell_type": "code",
   "execution_count": 332,
   "metadata": {},
   "outputs": [
    {
     "data": {
      "text/plain": [
       "kategorija\n",
       "zelenjava    1.589695e-18\n",
       "solata       4.959851e-21\n",
       "priloga      2.217692e-21\n",
       "meso         6.173254e-23\n",
       "juha         7.901405e-26\n",
       "sladice      9.188079e-28\n",
       "dtype: float64"
      ]
     },
     "execution_count": 332,
     "metadata": {},
     "output_type": "execute_result"
    }
   ],
   "source": [
    "sestavine_recepta = \"\"\"\n",
    "Krompir\n",
    "Sol\n",
    "Maslo\n",
    "Poper\n",
    "Česen - v prahu\n",
    "Kravje mleko - polnomastno\n",
    "Parmezan\n",
    "Kisla smetana\n",
    "Jajce - kokošje\n",
    "Drobtine\n",
    "Olje - sončnično\n",
    " \"\"\" # Sem vstavite sestavine želenega recepta\n",
    "koreni_recepta = koreni_besed(sestavine_recepta)\n",
    "\n",
    "stevci_verjetnosti_kategorije_recepta = (verjetnosti_korenov_po_kategorijah[\n",
    "    verjetnosti_korenov_po_kategorijah.index.isin(koreni_recepta)\n",
    "].prod() * verjetnosti_kategorij)\n",
    "\n",
    "stevci_verjetnosti_kategorije_recepta.sort_values(ascending=False)"
   ]
  },
  {
   "cell_type": "markdown",
   "metadata": {},
   "source": [
    "Priloga: pražen krompir"
   ]
  },
  {
   "cell_type": "code",
   "execution_count": 333,
   "metadata": {},
   "outputs": [
    {
     "data": {
      "text/plain": [
       "kategorija\n",
       "sladice      7.112544e-16\n",
       "solata       7.888110e-09\n",
       "priloga      1.853298e-08\n",
       "meso         2.581462e-08\n",
       "juha         9.373486e-08\n",
       "zelenjava    2.556132e-06\n",
       "dtype: float64"
      ]
     },
     "execution_count": 333,
     "metadata": {},
     "output_type": "execute_result"
    }
   ],
   "source": [
    "sestavine_recepta = \"\"\"\n",
    "Krompir\n",
    "Sol\n",
    "Čebula\n",
    "Olje - sončnično\n",
    "Poper\n",
    "Voda\n",
    "Jušna kocka\n",
    " \"\"\" # Sem vstavite sestavine želenega recepta\n",
    "koreni_recepta = koreni_besed(sestavine_recepta)\n",
    "\n",
    "stevci_verjetnosti_kategorije_recepta = (verjetnosti_korenov_po_kategorijah[\n",
    "    verjetnosti_korenov_po_kategorijah.index.isin(koreni_recepta)\n",
    "].prod() * verjetnosti_kategorij)\n",
    "\n",
    "stevci_verjetnosti_kategorije_recepta.sort_values()"
   ]
  },
  {
   "cell_type": "markdown",
   "metadata": {},
   "source": [
    "Solata: pisana poletna solata s čičeriko"
   ]
  },
  {
   "cell_type": "code",
   "execution_count": 334,
   "metadata": {},
   "outputs": [
    {
     "data": {
      "text/plain": [
       "kategorija\n",
       "zelenjava    5.608268e-30\n",
       "priloga      4.324325e-31\n",
       "solata       2.404860e-35\n",
       "meso         2.068148e-39\n",
       "juha         1.222201e-39\n",
       "sladice      5.535661e-53\n",
       "dtype: float64"
      ]
     },
     "execution_count": 334,
     "metadata": {},
     "output_type": "execute_result"
    }
   ],
   "source": [
    "sestavine_recepta = \"\"\"\n",
    "čičerike\n",
    "zrela paradižnika\n",
    "srednje velika kumara\n",
    "rdeče čebule\n",
    "nekaj vejic svežega peteršilja\n",
    "sok polovice llimone (po potrebi tudi več)\n",
    "olivnega olja\n",
    "sol po okusu\n",
    "feta sira\n",
    "popraženih sezamovih semen\n",
    " \"\"\" # Sem vstavite sestavine želenega recepta\n",
    "koreni_recepta = koreni_besed(sestavine_recepta)\n",
    "\n",
    "stevci_verjetnosti_kategorije_recepta = (verjetnosti_korenov_po_kategorijah[\n",
    "    verjetnosti_korenov_po_kategorijah.index.isin(koreni_recepta)\n",
    "].prod() * verjetnosti_kategorij)\n",
    "\n",
    "stevci_verjetnosti_kategorije_recepta.sort_values(ascending=False)"
   ]
  },
  {
   "cell_type": "markdown",
   "metadata": {},
   "source": [
    "Sladica: rolada s smetano in marmelado"
   ]
  },
  {
   "cell_type": "code",
   "execution_count": 335,
   "metadata": {},
   "outputs": [
    {
     "data": {
      "text/plain": [
       "kategorija\n",
       "sladice      3.182592e-10\n",
       "solata       3.807013e-15\n",
       "zelenjava    4.146423e-25\n",
       "meso         3.799298e-27\n",
       "priloga      1.780787e-28\n",
       "juha         1.622360e-29\n",
       "dtype: float64"
      ]
     },
     "execution_count": 335,
     "metadata": {},
     "output_type": "execute_result"
    }
   ],
   "source": [
    "sestavine_recepta = \"\"\"\n",
    "masla\n",
    "navadne temne čokolade\n",
    "ruma\n",
    "rjavega sladkorja\n",
    "vanilijevega sladkorja\n",
    "moke\n",
    "kakava v prahu\n",
    "jajc\n",
    "masla za pekač\n",
    " \"\"\" # Sem vstavite sestavine želenega recepta\n",
    "koreni_recepta = koreni_besed(sestavine_recepta)\n",
    "\n",
    "stevci_verjetnosti_kategorije_recepta = (verjetnosti_korenov_po_kategorijah[\n",
    "    verjetnosti_korenov_po_kategorijah.index.isin(koreni_recepta)\n",
    "].prod() * verjetnosti_kategorij)\n",
    "\n",
    "stevci_verjetnosti_kategorije_recepta.sort_values(ascending=False)"
   ]
  },
  {
   "cell_type": "markdown",
   "metadata": {},
   "source": [
    "Sicer delovanja klasifikatorja nisem preizkusila na velikem vzorcu, a sem z njim vseeno kar zadovoljna. Zagotovo pa bi bila natančnost boljša, če bi upošteval še količino določene sestavine."
   ]
  }
 ],
 "metadata": {
  "kernelspec": {
   "display_name": "Python 3.10.8 64-bit (microsoft store)",
   "language": "python",
   "name": "python3"
  },
  "language_info": {
   "codemirror_mode": {
    "name": "ipython",
    "version": 3
   },
   "file_extension": ".py",
   "mimetype": "text/x-python",
   "name": "python",
   "nbconvert_exporter": "python",
   "pygments_lexer": "ipython3",
   "version": "3.10.8"
  },
  "vscode": {
   "interpreter": {
    "hash": "ae12963180ba79e0d4f08e40bc08059880b66eae72608cb520b73ab1696d4680"
   }
  }
 },
 "nbformat": 4,
 "nbformat_minor": 2
}
