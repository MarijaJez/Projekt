{
 "cells": [
  {
   "cell_type": "markdown",
   "metadata": {},
   "source": [
    "Na koncu iz prenešenih html strani izluščimo še podatke o sestavinah in postopku priprave ter jih shranimo v 2 novi csv datoteki \"sestavine.csv\" in \"podatki.csv\"."
   ]
  },
  {
   "cell_type": "code",
   "execution_count": 52,
   "metadata": {},
   "outputs": [],
   "source": [
    "import pandas as pd\n",
    "import os\n",
    "from tqdm import tqdm\n",
    "import re\n",
    "import csv"
   ]
  },
  {
   "cell_type": "code",
   "execution_count": 53,
   "metadata": {},
   "outputs": [
    {
     "data": {
      "text/html": [
       "<div>\n",
       "<style scoped>\n",
       "    .dataframe tbody tr th:only-of-type {\n",
       "        vertical-align: middle;\n",
       "    }\n",
       "\n",
       "    .dataframe tbody tr th {\n",
       "        vertical-align: top;\n",
       "    }\n",
       "\n",
       "    .dataframe thead th {\n",
       "        text-align: right;\n",
       "    }\n",
       "</style>\n",
       "<table border=\"1\" class=\"dataframe\">\n",
       "  <thead>\n",
       "    <tr style=\"text-align: right;\">\n",
       "      <th></th>\n",
       "      <th>Unnamed: 0</th>\n",
       "      <th>povezava</th>\n",
       "      <th>ime</th>\n",
       "      <th>avtor</th>\n",
       "      <th>cas_priprave</th>\n",
       "      <th>povprečna_ocena</th>\n",
       "      <th>kategorija</th>\n",
       "    </tr>\n",
       "  </thead>\n",
       "  <tbody>\n",
       "    <tr>\n",
       "      <th>0</th>\n",
       "      <td>0</td>\n",
       "      <td>'/recepti/juhe-in-zakuhe/ostale-juhe/cmocki-sa...</td>\n",
       "      <td>Cmočki šarenke v žametni bučni juhi</td>\n",
       "      <td>Spar Slovenija</td>\n",
       "      <td>45 min</td>\n",
       "      <td>Unknown</td>\n",
       "      <td>juha</td>\n",
       "    </tr>\n",
       "    <tr>\n",
       "      <th>1</th>\n",
       "      <td>1</td>\n",
       "      <td>'/recepti/juhe-in-zakuhe/ostale-juhe/spargljev...</td>\n",
       "      <td>Špargljeva kremna juha z žličniki iz šunke in ...</td>\n",
       "      <td>HOFER Slovenija</td>\n",
       "      <td>45 min</td>\n",
       "      <td>Unknown</td>\n",
       "      <td>juha</td>\n",
       "    </tr>\n",
       "    <tr>\n",
       "      <th>2</th>\n",
       "      <td>2</td>\n",
       "      <td>'/recepti/juhe-in-zakuhe/ostale-juhe/skutn-ca/...</td>\n",
       "      <td>Skutn'ca</td>\n",
       "      <td>ZELENE DOLINE</td>\n",
       "      <td>15 min</td>\n",
       "      <td>Unknown</td>\n",
       "      <td>juha</td>\n",
       "    </tr>\n",
       "    <tr>\n",
       "      <th>3</th>\n",
       "      <td>3</td>\n",
       "      <td>'/recepti/juhe-in-zakuhe/jusne-zakuhe/domaca-r...</td>\n",
       "      <td>Domača ribana kaša</td>\n",
       "      <td>Žito</td>\n",
       "      <td>30 min</td>\n",
       "      <td>Unknown</td>\n",
       "      <td>juha</td>\n",
       "    </tr>\n",
       "    <tr>\n",
       "      <th>4</th>\n",
       "      <td>4</td>\n",
       "      <td>'/recepti/juhe-in-zakuhe/hladne-juhe/hladna-ku...</td>\n",
       "      <td>Hladna kumarična juha z morskim nabodalom</td>\n",
       "      <td>HOFER Slovenija</td>\n",
       "      <td>30 min</td>\n",
       "      <td>Unknown</td>\n",
       "      <td>juha</td>\n",
       "    </tr>\n",
       "    <tr>\n",
       "      <th>...</th>\n",
       "      <td>...</td>\n",
       "      <td>...</td>\n",
       "      <td>...</td>\n",
       "      <td>...</td>\n",
       "      <td>...</td>\n",
       "      <td>...</td>\n",
       "      <td>...</td>\n",
       "    </tr>\n",
       "    <tr>\n",
       "      <th>12761</th>\n",
       "      <td>12761</td>\n",
       "      <td>'/recepti/sladice/palacinke/palacinke-z-jabolc...</td>\n",
       "      <td>Palačinke z jabolčnim sirupom in ginom</td>\n",
       "      <td>percya</td>\n",
       "      <td>30 min</td>\n",
       "      <td>Unknown</td>\n",
       "      <td>sladice</td>\n",
       "    </tr>\n",
       "    <tr>\n",
       "      <th>12762</th>\n",
       "      <td>12762</td>\n",
       "      <td>'/recepti/sladice/palacinke/lesnikove-palacink...</td>\n",
       "      <td>Lešnikove palačinke</td>\n",
       "      <td>Kitchen bee</td>\n",
       "      <td>15 min</td>\n",
       "      <td>Unknown</td>\n",
       "      <td>sladice</td>\n",
       "    </tr>\n",
       "    <tr>\n",
       "      <th>12763</th>\n",
       "      <td>12763</td>\n",
       "      <td>'/recepti/sladice/pecivo/pecivo-5-4/22612/'</td>\n",
       "      <td>Pecivo 5/4</td>\n",
       "      <td>Miss Pariz</td>\n",
       "      <td>1 ura</td>\n",
       "      <td>Unknown</td>\n",
       "      <td>sladice</td>\n",
       "    </tr>\n",
       "    <tr>\n",
       "      <th>12764</th>\n",
       "      <td>12764</td>\n",
       "      <td>'/recepti/sladice/pecivo/cokoladna-tortica-z-r...</td>\n",
       "      <td>Čokoladna tortica z rdečim vinom v skodelici</td>\n",
       "      <td>Neza V.</td>\n",
       "      <td>30 min</td>\n",
       "      <td>Unknown</td>\n",
       "      <td>sladice</td>\n",
       "    </tr>\n",
       "    <tr>\n",
       "      <th>12765</th>\n",
       "      <td>12765</td>\n",
       "      <td>'/recepti/sladice/sladoledi/jagodni-semifreddo...</td>\n",
       "      <td>Jagodni semifreddo</td>\n",
       "      <td>benkica</td>\n",
       "      <td>45 min</td>\n",
       "      <td>Unknown</td>\n",
       "      <td>sladice</td>\n",
       "    </tr>\n",
       "  </tbody>\n",
       "</table>\n",
       "<p>12766 rows × 7 columns</p>\n",
       "</div>"
      ],
      "text/plain": [
       "       Unnamed: 0                                           povezava  \\\n",
       "0               0  '/recepti/juhe-in-zakuhe/ostale-juhe/cmocki-sa...   \n",
       "1               1  '/recepti/juhe-in-zakuhe/ostale-juhe/spargljev...   \n",
       "2               2  '/recepti/juhe-in-zakuhe/ostale-juhe/skutn-ca/...   \n",
       "3               3  '/recepti/juhe-in-zakuhe/jusne-zakuhe/domaca-r...   \n",
       "4               4  '/recepti/juhe-in-zakuhe/hladne-juhe/hladna-ku...   \n",
       "...           ...                                                ...   \n",
       "12761       12761  '/recepti/sladice/palacinke/palacinke-z-jabolc...   \n",
       "12762       12762  '/recepti/sladice/palacinke/lesnikove-palacink...   \n",
       "12763       12763        '/recepti/sladice/pecivo/pecivo-5-4/22612/'   \n",
       "12764       12764  '/recepti/sladice/pecivo/cokoladna-tortica-z-r...   \n",
       "12765       12765  '/recepti/sladice/sladoledi/jagodni-semifreddo...   \n",
       "\n",
       "                                                     ime            avtor  \\\n",
       "0                    Cmočki šarenke v žametni bučni juhi   Spar Slovenija   \n",
       "1      Špargljeva kremna juha z žličniki iz šunke in ...  HOFER Slovenija   \n",
       "2                                               Skutn'ca    ZELENE DOLINE   \n",
       "3                                     Domača ribana kaša             Žito   \n",
       "4              Hladna kumarična juha z morskim nabodalom  HOFER Slovenija   \n",
       "...                                                  ...              ...   \n",
       "12761             Palačinke z jabolčnim sirupom in ginom           percya   \n",
       "12762                                Lešnikove palačinke      Kitchen bee   \n",
       "12763                                         Pecivo 5/4       Miss Pariz   \n",
       "12764       Čokoladna tortica z rdečim vinom v skodelici          Neza V.   \n",
       "12765                                 Jagodni semifreddo          benkica   \n",
       "\n",
       "      cas_priprave povprečna_ocena kategorija  \n",
       "0           45 min         Unknown       juha  \n",
       "1           45 min         Unknown       juha  \n",
       "2           15 min         Unknown       juha  \n",
       "3           30 min         Unknown       juha  \n",
       "4           30 min         Unknown       juha  \n",
       "...            ...             ...        ...  \n",
       "12761       30 min         Unknown    sladice  \n",
       "12762       15 min         Unknown    sladice  \n",
       "12763        1 ura         Unknown    sladice  \n",
       "12764       30 min         Unknown    sladice  \n",
       "12765       45 min         Unknown    sladice  \n",
       "\n",
       "[12766 rows x 7 columns]"
      ]
     },
     "execution_count": 53,
     "metadata": {},
     "output_type": "execute_result"
    }
   ],
   "source": [
    "naslovi_receptov = pd.read_csv('podatki_z_indeksi.csv')"
   ]
  },
  {
   "cell_type": "markdown",
   "metadata": {},
   "source": [
    "Zagotovimo, da program najprej preveri, koliko strani smo že obdelali in shranili podatke o njihovih sestavinah oz. postopkih priprave, da se stvari ne ponavljajo, če program poženemo večkrat."
   ]
  },
  {
   "cell_type": "code",
   "execution_count": 47,
   "metadata": {},
   "outputs": [
    {
     "name": "stderr",
     "output_type": "stream",
     "text": [
      "C:\\Users\\Marija\\AppData\\Local\\Temp\\ipykernel_7180\\2444434152.py:3: FutureWarning: DataFrame.set_axis 'inplace' keyword is deprecated and will be removed in a future version. Use `obj = obj.set_axis(..., copy=False)` instead\n",
      "  sestavine = sestavine.set_axis(['indeks', 'količina', 'sestavina'], axis=1, inplace=False)\n"
     ]
    }
   ],
   "source": [
    "sestavine = pd.read_csv('sestavine.csv', header = None)\n",
    "\n",
    "sestavine = sestavine.set_axis(['indeks', 'količina', 'sestavina'], axis=1, inplace=False)\n",
    "\n",
    "prebrane_sestavine = set(sestavine['indeks'])"
   ]
  },
  {
   "cell_type": "markdown",
   "metadata": {},
   "source": [
    "Nato podatke preberemo iz html-jev in shtsnimo v ustrezno csv datoteko."
   ]
  },
  {
   "cell_type": "code",
   "execution_count": 49,
   "metadata": {},
   "outputs": [
    {
     "name": "stderr",
     "output_type": "stream",
     "text": [
      "100%|██████████| 12766/12766 [48:47<00:00,  4.36it/s]  \n"
     ]
    }
   ],
   "source": [
    "with open('sestavine.csv', 'a', encoding='utf-8') as d:\n",
    "    writer = csv.DictWriter(d, fieldnames=['indeks', 'količina', 'sestavina'])\n",
    "    for vrstica in tqdm(naslovi_receptov.iloc, total=len(naslovi_receptov)):\n",
    "        id = vrstica['Unnamed: 0']\n",
    "        if int(id) in prebrane_sestavine:\n",
    "            continue\n",
    "        pot = f\"html_strani/{id}.html\"\n",
    "        if not os.path.exists(pot):\n",
    "            print(f\"{id} ne obstaja.\")\n",
    "        with open(pot, 'r', encoding='utf-8') as d:\n",
    "            vsebina = d.read()\n",
    "        vzorec_sestavine = re.compile(r\"\"\"<p.*?itemprop=\"recipeIngredient\"><span class=\"label\">(?P<kolicina>.*?)</span><span class=\"label-value\">(?P<sestavina>.*?)</span></p>\"\"\", re.DOTALL)\n",
    "        sestavine = re.findall(vzorec_sestavine, vsebina)\n",
    "        if len(sestavine) == 0:\n",
    "            print(f\"{id}: ni nasel sestavin\")\n",
    "            continue\n",
    "\n",
    "        for sestavina in sestavine:\n",
    "            sestavina_slovar = {'indeks': id, 'količina': sestavina[0], 'sestavina': sestavina[1]}\n",
    "            writer.writerow(sestavina_slovar)"
   ]
  },
  {
   "cell_type": "code",
   "execution_count": 56,
   "metadata": {},
   "outputs": [
    {
     "name": "stderr",
     "output_type": "stream",
     "text": [
      "C:\\Users\\Marija\\AppData\\Local\\Temp\\ipykernel_7180\\1458954422.py:3: FutureWarning: DataFrame.set_axis 'inplace' keyword is deprecated and will be removed in a future version. Use `obj = obj.set_axis(..., copy=False)` instead\n",
      "  postopki = postopki.set_axis(['indeks', 'korak', 'postopek'], axis=1, inplace=False)\n"
     ]
    }
   ],
   "source": [
    "postopki = pd.read_csv('postopki.csv', header = None)\n",
    "\n",
    "postopki = postopki.set_axis(['indeks', 'korak', 'postopek'], axis=1, inplace=False)\n",
    "\n",
    "prebrani_postopki = set(postopki['indeks'])"
   ]
  },
  {
   "cell_type": "code",
   "execution_count": 58,
   "metadata": {},
   "outputs": [
    {
     "name": "stderr",
     "output_type": "stream",
     "text": [
      "100%|██████████| 12766/12766 [16:11<00:00, 13.14it/s] \n"
     ]
    }
   ],
   "source": [
    "with open('postopki.csv', 'a', encoding='utf-8') as d:\n",
    "    writer = csv.DictWriter(d, fieldnames=['indeks', 'korak', 'postopek'])\n",
    "    for vrstica in tqdm(naslovi_receptov.iloc, total=len(naslovi_receptov)):\n",
    "            id = vrstica['Unnamed: 0']\n",
    "            if int(id) in prebrani_postopki:\n",
    "                continue\n",
    "            pot = f\"html_strani/{id}.html\"\n",
    "            if not os.path.exists(pot):\n",
    "                print(f\"{id} ne obstaja.\")\n",
    "            with open(pot, 'r', encoding='utf-8') as d:\n",
    "                vsebina = d.read()\n",
    "            vzorec_postopek = re.compile(r\"\"\"<p.*?itemprop=\"recipeInstructions\"><span class=\"label\">(?P<korak>.*?)</span><span class=\"+data\"+>(?P<postopek>.*?)</span></p>\"\"\", re.DOTALL)\n",
    "            navodila = re.findall(vzorec_postopek, vsebina)\n",
    "            if len(navodila) == 0:\n",
    "                print(f\"{id}: ni nasel sestavin\")\n",
    "                continue\n",
    "\n",
    "            for navodilo in navodila:\n",
    "                navodilo_slovar = {'indeks': id, 'korak': navodilo[0], 'postopek': navodilo[1]}\n",
    "                writer.writerow(navodilo_slovar)"
   ]
  }
 ],
 "metadata": {
  "kernelspec": {
   "display_name": "Python 3.10.8 64-bit (microsoft store)",
   "language": "python",
   "name": "python3"
  },
  "language_info": {
   "codemirror_mode": {
    "name": "ipython",
    "version": 3
   },
   "file_extension": ".py",
   "mimetype": "text/x-python",
   "name": "python",
   "nbconvert_exporter": "python",
   "pygments_lexer": "ipython3",
   "version": "3.10.8"
  },
  "orig_nbformat": 4,
  "vscode": {
   "interpreter": {
    "hash": "ae12963180ba79e0d4f08e40bc08059880b66eae72608cb520b73ab1696d4680"
   }
  }
 },
 "nbformat": 4,
 "nbformat_minor": 2
}
